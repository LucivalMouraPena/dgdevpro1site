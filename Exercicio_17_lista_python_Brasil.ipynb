{
  "nbformat": 4,
  "nbformat_minor": 0,
  "metadata": {
    "colab": {
      "provenance": [],
      "authorship_tag": "ABX9TyOltYuz4TSoyzszMBKSRYTQ",
      "include_colab_link": true
    },
    "kernelspec": {
      "name": "python3",
      "display_name": "Python 3"
    },
    "language_info": {
      "name": "python"
    }
  },
  "cells": [
    {
      "cell_type": "markdown",
      "metadata": {
        "id": "view-in-github",
        "colab_type": "text"
      },
      "source": [
        "<a href=\"https://colab.research.google.com/github/LucivalMouraPena/dgdevpro1site/blob/main/Exercicio_17_lista_python_Brasil.ipynb\" target=\"_parent\"><img src=\"https://colab.research.google.com/assets/colab-badge.svg\" alt=\"Open In Colab\"/></a>"
      ]
    },
    {
      "cell_type": "markdown",
      "source": [
        "Faça um Programa para uma loja de tintas. O programa deverá pedir o tamanho em metros quadrados da área a ser pintada. Considere que a cobertura da tinta é de 1 litro para cada 6 metros quadrados e que a tinta é vendida em latas de 18 litros, que custam R$ 80,00 ou em galões de 3,6 litros, que custam R$ 25,00.\n",
        "Informe ao usuário as quantidades de tinta a serem compradas e os respectivos preços em 3 situações:\n",
        "comprar apenas latas de 18 litros;\n",
        "comprar apenas galões de 3,6 litros;\n",
        "misturar latas e galões, de forma que o desperdício de tinta seja menor. Acrescente 10% de folga e sempre arredonde os valores para cima, isto é, considere latas cheias."
      ],
      "metadata": {
        "id": "nbBBKT-9ijOK"
      }
    },
    {
      "cell_type": "code",
      "execution_count": 1,
      "metadata": {
        "id": "L3jZQ3VhiTBI",
        "colab": {
          "base_uri": "https://localhost:8080/"
        },
        "outputId": "6ff678bb-80d7-4832-b4ae-d0956f0e8b4e"
      },
      "outputs": [
        {
          "output_type": "stream",
          "name": "stdout",
          "text": [
            "Digite a area, em metros quadrdos a ser pintada100\n",
            "Voce devera usar2 latas de 18 litros, no valor de R$ 160\n",
            "Voce devera usar6 galoes de 3.6 litros no valor de R$150\n",
            "Voce deverá usar 1 latas de 18 litros mais 1 galoes de 3.6 no valor de R$  105\n"
          ]
        }
      ],
      "source": [
        "import math\n",
        "area_a_ser_pintada = int(input('Digite a area, em metros quadrdos a ser pintada')) # area em metros quadrados\n",
        "area_com_folga = area_a_ser_pintada * 1.1\n",
        "litros_por_metro = 6\n",
        "litros_a_serem_usados = area_com_folga / litros_por_metro\n",
        "litros_por_lata = 18\n",
        "numero_de_latas = math.ceil(litros_a_serem_usados / litros_por_lata)\n",
        "valor_com_apenas_latas_ = numero_de_latas * 80\n",
        "print(f'Voce devera usar{numero_de_latas} latas de 18 litros, no valor de R$ {valor_com_apenas_latas_}')\n",
        "\n",
        "litros_por_galao = 3.6\n",
        "numero_de_galoes = math.ceil(litros_a_serem_usados / litros_por_galao)\n",
        "valor_com_apenas_galao = numero_de_galoes * 25\n",
        "print(f'Voce devera usar{numero_de_galoes} galoes de 3.6 litros no valor de R${valor_com_apenas_galao}')\n",
        "\n",
        "# Compra de tinta otimizada por valor( arredondando paa baixo pra ecomizar R$, usando o math.floor)\n",
        "numero_de_latas = math.floor(litros_a_serem_usados / litros_por_lata)\n",
        "valor_de_latas = numero_de_latas * 80\n",
        "\n",
        "\n",
        "litros_faltantes = litros_a_serem_usados % litros_por_lata\n",
        "numero_de_galoes = math.ceil(litros_faltantes / litros_por_galao)\n",
        "valor_com_apenas_galao = numero_de_galoes * 25\n",
        "valor_total = valor_de_latas + valor_com_apenas_galao\n",
        "valor_de_latas = numero_de_latas * 80\n",
        "\n",
        "\n",
        "print(f'Voce deverá usar {numero_de_latas} latas de 18 litros mais {numero_de_galoes} galoes de 3.6 no valor de R$  {valor_total}')\n",
        "\n",
        "\n"
      ]
    }
  ]
}